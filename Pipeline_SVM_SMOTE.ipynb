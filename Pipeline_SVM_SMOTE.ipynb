{
 "cells": [
  {
   "cell_type": "code",
   "execution_count": 3,
   "metadata": {},
   "outputs": [],
   "source": [
    "#importing required packages\n",
    "from sklearn.feature_extraction.text import *\n",
    "from sklearn.model_selection import *\n",
    "from sklearn.preprocessing import *\n",
    "from sklearn.svm import *\n",
    "from sklearn.calibration import *\n",
    "from imblearn.over_sampling import *\n",
    "from imblearn.pipeline import Pipeline\n",
    "from sklearn.pipeline import FeatureUnion\n",
    "from sklearn.multioutput import MultiOutputClassifier\n",
    "from sklearn.linear_model import LogisticRegression\n",
    "from sklearn.multiclass import OneVsRestClassifier\n",
    "from sklearn.metrics import *\n",
    "from sklearn.preprocessing import OneHotEncoder\n",
    "from sklearn.preprocessing import MultiLabelBinarizer\n",
    "#from gensim.sklearn_api import *\n",
    "import pandas as pd\n",
    "from nltk.stem import PorterStemmer\n",
    "import nltk"
   ]
  },
  {
   "cell_type": "code",
   "execution_count": 2,
   "metadata": {},
   "outputs": [
    {
     "data": {
      "text/html": [
       "<div>\n",
       "<style scoped>\n",
       "    .dataframe tbody tr th:only-of-type {\n",
       "        vertical-align: middle;\n",
       "    }\n",
       "\n",
       "    .dataframe tbody tr th {\n",
       "        vertical-align: top;\n",
       "    }\n",
       "\n",
       "    .dataframe thead th {\n",
       "        text-align: right;\n",
       "    }\n",
       "</style>\n",
       "<table border=\"1\" class=\"dataframe\">\n",
       "  <thead>\n",
       "    <tr style=\"text-align: right;\">\n",
       "      <th></th>\n",
       "      <th>category</th>\n",
       "      <th>words</th>\n",
       "    </tr>\n",
       "  </thead>\n",
       "  <tbody>\n",
       "    <tr>\n",
       "      <th>0</th>\n",
       "      <td>DELETION OF INTEREST</td>\n",
       "      <td>e04a09c87692 d6b72e591b91 5d066f0246f1 ed41171...</td>\n",
       "    </tr>\n",
       "    <tr>\n",
       "      <th>1</th>\n",
       "      <td>RETURNED CHECK</td>\n",
       "      <td>a3b334c6eefd be95012ebf2b 41d67080e078 ff1c26e...</td>\n",
       "    </tr>\n",
       "    <tr>\n",
       "      <th>2</th>\n",
       "      <td>BILL</td>\n",
       "      <td>586242498a88 9ccf259ca087 54709b24b45f 6bf9c0c...</td>\n",
       "    </tr>\n",
       "    <tr>\n",
       "      <th>3</th>\n",
       "      <td>BILL</td>\n",
       "      <td>cd50e861f48b 6ca2dd348663 d38820625542 f077614...</td>\n",
       "    </tr>\n",
       "    <tr>\n",
       "      <th>4</th>\n",
       "      <td>BILL</td>\n",
       "      <td>9db5536263d8 1c303d15eb65 3f89b4673455 b73e657...</td>\n",
       "    </tr>\n",
       "  </tbody>\n",
       "</table>\n",
       "</div>"
      ],
      "text/plain": [
       "               category                                              words\n",
       "0  DELETION OF INTEREST  e04a09c87692 d6b72e591b91 5d066f0246f1 ed41171...\n",
       "1        RETURNED CHECK  a3b334c6eefd be95012ebf2b 41d67080e078 ff1c26e...\n",
       "2                  BILL  586242498a88 9ccf259ca087 54709b24b45f 6bf9c0c...\n",
       "3                  BILL  cd50e861f48b 6ca2dd348663 d38820625542 f077614...\n",
       "4                  BILL  9db5536263d8 1c303d15eb65 3f89b4673455 b73e657..."
      ]
     },
     "execution_count": 2,
     "metadata": {},
     "output_type": "execute_result"
    }
   ],
   "source": [
    "# Load Dataset\n",
    "data = pd.read_csv('C:/Users/Navya Manepalli/Downloads/shuffled-full-set-hashed/shuffled-full-set-hashed.csv', names=['category','words'])\n",
    "data.head()"
   ]
  },
  {
   "cell_type": "code",
   "execution_count": 3,
   "metadata": {},
   "outputs": [],
   "source": [
    "#Cleaming data\n",
    "data1 = data.dropna(subset=['words'])"
   ]
  },
  {
   "cell_type": "code",
   "execution_count": 4,
   "metadata": {},
   "outputs": [
    {
     "data": {
      "text/plain": [
       "category    0\n",
       "words       0\n",
       "dtype: int64"
      ]
     },
     "execution_count": 4,
     "metadata": {},
     "output_type": "execute_result"
    }
   ],
   "source": [
    "#checking empty columns in dataframe\n",
    "data1.isnull().sum(axis = 0)"
   ]
  },
  {
   "cell_type": "code",
   "execution_count": 5,
   "metadata": {},
   "outputs": [],
   "source": [
    "#creating pipeline\n",
    "#defining tokeniser with stemming using PorterStemmer\n",
    "def tokenize(text):\n",
    "    tokens = nltk.word_tokenize(text)\n",
    "    stems = []\n",
    "    for item in tokens:\n",
    "        stems.append(PorterStemmer().stem(item))\n",
    "    return stems"
   ]
  },
  {
   "cell_type": "code",
   "execution_count": 6,
   "metadata": {},
   "outputs": [],
   "source": [
    "#Vectorizing the tokenised data and tranforming based on tfidtranformer\n",
    "text_pipeline = Pipeline([('vect', CountVectorizer(tokenizer=tokenize, \n",
    "                                  ngram_range=(1,3),\n",
    "                                  max_df=0.75)), \n",
    "                          ('tfidf', TfidfTransformer(sublinear_tf=True))])"
   ]
  },
  {
   "cell_type": "code",
   "execution_count": 7,
   "metadata": {},
   "outputs": [],
   "source": [
    "#After that creating features and applying SMOTE since our classes are not balanced\n",
    "#Using Linear SVC to build model\n",
    "pipeline = Pipeline([('features', FeatureUnion([('text_pipeline', text_pipeline)])),\n",
    "                      (\"smote\",SMOTE()),\n",
    "                      ('clf', CalibratedClassifierCV(base_estimator=LinearSVC()))])"
   ]
  },
  {
   "cell_type": "code",
   "execution_count": 8,
   "metadata": {},
   "outputs": [],
   "source": [
    "#Splitting the data into training and validation set\n",
    "from sklearn.model_selection import train_test_split\n",
    "\n",
    "#test and train data\n",
    "x_train, x_valid, y_train, y_valid = train_test_split(data1['words'],data1['category'],test_size=0.3,random_state=42)"
   ]
  },
  {
   "cell_type": "code",
   "execution_count": 9,
   "metadata": {},
   "outputs": [],
   "source": [
    "#Fitting the model\n",
    "model = pipeline.fit(x_train, y_train)"
   ]
  },
  {
   "cell_type": "code",
   "execution_count": 10,
   "metadata": {},
   "outputs": [],
   "source": [
    "#Predicting\n",
    "y_predict=model.predict(x_valid)"
   ]
  },
  {
   "cell_type": "code",
   "execution_count": 12,
   "metadata": {},
   "outputs": [
    {
     "data": {
      "text/plain": [
       "0.849045474045474"
      ]
     },
     "execution_count": 12,
     "metadata": {},
     "output_type": "execute_result"
    }
   ],
   "source": [
    "from sklearn.metrics import f1_score\n",
    "f1 = f1_score(y_valid, y_predict, average = 'micro')\n",
    "f1"
   ]
  },
  {
   "cell_type": "code",
   "execution_count": 13,
   "metadata": {},
   "outputs": [
    {
     "data": {
      "text/plain": [
       "(0.8446329500049402, 0.849045474045474, 0.841437060877914, None)"
      ]
     },
     "execution_count": 13,
     "metadata": {},
     "output_type": "execute_result"
    }
   ],
   "source": [
    "\n",
    "from sklearn.metrics import precision_recall_fscore_support\n",
    "\n",
    "precision_recall_fscore_support(y_valid, y_predict, average='macro')\n",
    "\n",
    "precision_recall_fscore_support(y_valid, y_predict, average='micro')\n",
    "\n",
    "precision_recall_fscore_support(y_valid, y_predict, average='weighted')\n"
   ]
  },
  {
   "cell_type": "code",
   "execution_count": 6,
   "metadata": {},
   "outputs": [],
   "source": [
    "import pickle"
   ]
  },
  {
   "cell_type": "code",
   "execution_count": 4,
   "metadata": {},
   "outputs": [
    {
     "ename": "NameError",
     "evalue": "name 'model' is not defined",
     "output_type": "error",
     "traceback": [
      "\u001b[1;31m---------------------------------------------------------------------------\u001b[0m",
      "\u001b[1;31mNameError\u001b[0m                                 Traceback (most recent call last)",
      "\u001b[1;32m<ipython-input-4-d86a9685a613>\u001b[0m in \u001b[0;36m<module>\u001b[1;34m\u001b[0m\n\u001b[1;32m----> 1\u001b[1;33m \u001b[0mpickle\u001b[0m\u001b[1;33m.\u001b[0m\u001b[0mdump\u001b[0m\u001b[1;33m(\u001b[0m\u001b[0mmodel\u001b[0m\u001b[1;33m,\u001b[0m \u001b[0mopen\u001b[0m\u001b[1;33m(\u001b[0m\u001b[1;34m'LRmodel.pkl'\u001b[0m\u001b[1;33m,\u001b[0m \u001b[1;34m'wb'\u001b[0m\u001b[1;33m)\u001b[0m\u001b[1;33m)\u001b[0m\u001b[1;33m\u001b[0m\u001b[1;33m\u001b[0m\u001b[0m\n\u001b[0m",
      "\u001b[1;31mNameError\u001b[0m: name 'model' is not defined"
     ]
    }
   ],
   "source": [
    "pickle.dump(model, open('LRmodel.pkl', 'wb'))\n"
   ]
  },
  {
   "cell_type": "code",
   "execution_count": 18,
   "metadata": {},
   "outputs": [
    {
     "name": "stdout",
     "output_type": "stream",
     "text": [
      "done\n"
     ]
    }
   ],
   "source": [
    "print('done')"
   ]
  },
  {
   "cell_type": "code",
   "execution_count": 9,
   "metadata": {},
   "outputs": [
    {
     "name": "stderr",
     "output_type": "stream",
     "text": [
      "\n",
      "KeyboardInterrupt\n",
      "\n"
     ]
    }
   ],
   "source": [
    "testing=pickle.load(open('LRmodel.pkl','rb'))"
   ]
  },
  {
   "cell_type": "code",
   "execution_count": 25,
   "metadata": {},
   "outputs": [
    {
     "data": {
      "text/plain": [
       "'6dab0cc915bb 0226fe922dd0 31fdb28ad1d7 48d657cd9861 131e0a24f74a 6ef7f08e2413 48d657cd9861 7eb4767ef541 31cbd98f4b3c 5037561ecd63 f7ae6f8257da 9374c105ef84 c8f5ad40a683 d1c026dbb195 ec5aa8fc6485 95d2678ecb76 cf6e30467290 616a18069ab2 250818fb82b6 0072efdaa34a 55b85f1ee56e 25c57acdf805 079935e500e5 6bff0c8c1185 fe2a0b547048 b3accd0d799b 25c57acdf805 6bff0c8c1185 3f4ecf0b8c30 a3518ffa104e 31fdb28ad1d7 48d657cd9861 85bf198ebad1 0d5c6a460006 360e8b28421c d66fd47266ae f7ae6f8257da f7ae6f8257da 36e7aa72ffe1 152937e52656 6d1fb90988cf 7eb4767ef541 a7d9f88a65fa ed1e3242ee34 4d0b7c8c7907 6dab0cc915bb 572b3238a2c4 c5dcd74b40a9 e1b9e4df3a88 eeb86a6a04e4 e8faf9f3abee 106de4332a24 6b343f522f78 ec3406979928 9bc65adc033c f1ec22325b37 f7ae6f8257da 6ca2dd348663 b4221b1edff9 87b8193a0183 641356219cbc 25c57acdf805 09b305bd6c36 f9511a3315f7 bf064c332aa1 a7d9f88a65fa 2a6fbe672600 be95012ebf2b 9b88c973ae02 d493c688fb66 95d2678ecb76 97b6014f9e50 a7d9f88a65fa 2f2548bd374a 398001e47c45 25c57acdf805 db108078ec43 f1c9f7517642 1a8ac9f8f32f 42e393bc7d8e 6dab0cc915bb 01a21c4d7fcc beff76a9aeb7 b4221b1edff9 97b6014f9e50 21e314d3afcc f8b0c07e306c b9699ce57810 fea862065b74 1d9b123c7584 24d1ab9d7766 f0fd45d01d0a 19e9f3592995 e1b9e4df3a88 95d2678ecb76 fc6d31db0c73 c9a9c6513cf2 7e38d74ef571 a7d9f88a65fa fdb96e216207 25c57acdf805 a3518ffa104e 7df7e79d9059 25c57acdf805 f7ae6f8257da 2685f0879380 0f12fd1c2b99 31cbd98f4b3c 4298762de22f 75b0892f1b25 33630ee5f812 b0d8156518ad a7d9f88a65fa e4dad7cb07b6 25c57acdf805 17bc3e95a38f f816f047c0db 578830762b27 c9a9c6513cf2 9fd60ec6b573 586242498a88 25c57acdf805 5c02c2aaa67b eb51798a89e1 fc6d31db0c73 b276f256aae1 54709b24b45f f95d0bea231b d38820625542 f8b0c07e306c fe3fe35491b4 564aaf0c408b 0226fe922dd0 fc25f79e6d18 f8b0c07e306c 75199e110c91 cede998708f7 586242498a88 299d73abab25 1971c0237f22 c574e8ae20ee 29455ef44c25 24d1ab9d7766 6dab0cc915bb 35fa4eb616b6 0c4ce226d9fe af56971b36ff 10e45001c2f2 6bff0c8c1185 ad0e347a0f60 91452a4ca825 c8f5ad40a683 46a0c35e916c 6ca2dd348663 ed41171e2e6d de2135c8eb44 2685f0879380 3a29db408753 d2fed0e65ee8 4355175706c7 586242498a88 b276f256aae1 b70d67fea211 3f4ecf0b8c30 19e9f3592995 5c02c2aaa67b 6dab0cc915bb 9b88c973ae02 ff714b9fa7fd f1ec22325b37 b9699ce57810 23344d9339f0 606e4d5bfcb2 6a01047db3ab 88feab596a13 b276f256aae1 b70d67fea211 fe2a0b547048 be95012ebf2b f1c9f7517642 2685f0879380 b73e657498f2 befbf6d74a98 22801de20709 d493c688fb66 b9699ce57810 2e18845cb5eb 678162fa4104 52102c70348d fdb96e216207 76c498cceff3 26f7353edc2e afaf4c07801f eeb86a6a04e4 2685f0879380 586242498a88 87b8193a0183 fe64d3cdfe5b 31fdb28ad1d7 48d657cd9861 25c57acdf805 9bc96abb24e5 9bc65adc033c ce1f034abb5d ecee69844b4e be7b10119658 cbd6e2e7a804 100f56ec899d 16d2dfee02f2 365a9390d225 fc6d31db0c73 cf4fc632eed2 422068f04236 10e45001c2f2 98d0d51b397c 4ef384ee2558 f7ae6f8257da 586242498a88 e4dad7cb07b6 db108078ec43 d2fed0e65ee8 478d9bf1604f 6b343f522f78 fbe267908bc5 3b952c633ee4 fe3fe35491b4 f95d0bea231b 586242498a88 f1ec22325b37 42e393bc7d8e 55b85f1ee56e 261ccde8c98d b9699ce57810 564aaf0c408b 6bff0c8c1185 b276f256aae1 641356219cbc 8ce006ac83cb ad4440ac97a5 25c57acdf805 6b304aabdcee 7265dbbffd1e 2860902e8203 d071e9241321 8b363e6fdb6a af671fbeb212 422068f04236 834aa57c6476 4edd6ea3a41f f5f43d3b80d3 10e45001c2f2 b32153b8b30c 1b6d0614f2c7 b9699ce57810 641356219cbc 4bdf8a147521 d2bba88a5897 801e56b230ba b90b7800d8e8 c99bb13b5e17 2860902e8203 9387cb4fec4a a3b612719dbb 036087ac04f9 2bcce4e05d9d f95d0bea231b bac147b7a63a 21e314d3afcc 25c57acdf805 641356219cbc 6099f4533cc2 1015893e384a a1e5904d04f5 586242498a88 d38820625542 0226fe922dd0 a3b334c6eefd 31fdb28ad1d7 25c57acdf805 46a0c35e916c ed5d3a65ee2d a20e78c41cf9 2b105386453c 73ef9fd67984 b814d9d78802 06e7c4534cb7 a0c020166d79 b32153b8b30c d8afd84c6fa9 abe15332fc48 7c3700f7888a c5675b18e30a 48d657cd9861 586242498a88 940420507c92 1c303d15eb65 f264f3181e87 ed1e3242ee34 1015893e384a 5e99d31d8fa4 4ce4bfb42e22 48d657cd9861 d7717b47cc8a 7d9e333a86da 0d5c6a460006 aafeffae2fde 360e8b28421c 320acb561928 25c57acdf805 f7ae6f8257da d911e9441d32 d38820625542 11d62d3598ce d66fd47266ae b0102a0ac952 586242498a88 54709b24b45f 1fe62f2b2bff 754980538d32 e7e059c82399 7498a1e9d9d7 d38820625542 0e1293a440b9 ac624879ac84 93790ade6682 2860902e8203 6eaff0f364b9 f25d7a4f6fd7 21e314d3afcc 940420507c92 1015893e384a 5e99d31d8fa4 95d2678ecb76 abe15332fc48 7c3700f7888a c5675b18e30a 420691c4fc64 6ce6cc5a3203 041a934b1778 1b6d0614f2c7 0f991de8cd9e d9142bb5fbe2 6dcc75eaf823 f9b20c280980 1b6d0614f2c7 40cb5e209b92 b136f6349cf3 7ec02e30a5b3 4ebb6981c4fb fe3fe35491b4 6d25574664d2 ff80da3532b9 1068682ce752 9cdf4a63deb0 8f75273e5510 b59e343416f7 ae2c26687b70 1068682ce752 6ca2dd348663 de66b00fc22a 6365c4563bd1 4357c81e10c1 4bdf8a147521 036087ac04f9 bad6ff5dd7bc a31962fbd5f3 d2bba88a5897 b61f1af56200 ba02159e05b1 de9738ee8b24 036087ac04f9 a7d9f88a65fa ce1f034abb5d ac15d906b6a2 0c8ba20caee9 801e56b230ba bdd52e16b30e 04503bc22789 641356219cbc b90b7800d8e8 4385f8100976 2860902e8203 5c02c2aaa67b 9387cb4fec4a 7d9e333a86da 39c5af181024 2cbc2b5e61bb 036087ac04f9 558adc5b0cef d38820625542 94eb44337b97 133d46f7ed38 e943e5e5b779 5ae07084a2e3 791199911dee 131e0a24f74a 0226fe922dd0 2ee1e0de2738 132a682c6a03 37353424fdc9 8f75273e5510 f52671c3d5de 0226fe922dd0 1068682ce752 641356219cbc 8f75273e5510 5948001254b3 0a2794b2ad5f b2c47a4523fd 6d5c2377e0b8 1aa86e82b225 c5b48686fbd5 557ec6c63cf9 6d5c2377e0b8 df762f412c3b 8ab6b7568f30 a1e5904d04f5 c5b48686fbd5 bb69de336c34 36e7aa72ffe1 b5feaf1dc5ca ec03d9be8724 2860902e8203 7eb4767ef541 c1925ca81f49 c33578d25a0d ba62a5abe2e4 8d6768212702 8db54a4cb57b cc9e05bc2a86 d9142bb5fbe2 cc4963e8ab78 fc25f79e6d18 26f768da5068 6af770640118 26f768da5068 6af770640118 7a5e719bafba cbfb3eb99bea d38820625542 cc9e05bc2a86'"
      ]
     },
     "execution_count": 25,
     "metadata": {},
     "output_type": "execute_result"
    }
   ],
   "source": [
    "x_valid[25322]"
   ]
  },
  {
   "cell_type": "code",
   "execution_count": 27,
   "metadata": {},
   "outputs": [],
   "source": [
    "x_valid2=[x_valid[25322]]"
   ]
  },
  {
   "cell_type": "code",
   "execution_count": 2,
   "metadata": {},
   "outputs": [
    {
     "ename": "NameError",
     "evalue": "name 'testing' is not defined",
     "output_type": "error",
     "traceback": [
      "\u001b[1;31m---------------------------------------------------------------------------\u001b[0m",
      "\u001b[1;31mNameError\u001b[0m                                 Traceback (most recent call last)",
      "\u001b[1;32m<ipython-input-2-ccf85f0045e2>\u001b[0m in \u001b[0;36m<module>\u001b[1;34m\u001b[0m\n\u001b[1;32m----> 1\u001b[1;33m \u001b[0mtestingresult\u001b[0m\u001b[1;33m=\u001b[0m\u001b[0mtesting\u001b[0m\u001b[1;33m.\u001b[0m\u001b[0mpredict\u001b[0m\u001b[1;33m(\u001b[0m\u001b[0mx_valid2\u001b[0m\u001b[1;33m)\u001b[0m\u001b[1;33m\u001b[0m\u001b[1;33m\u001b[0m\u001b[0m\n\u001b[0m",
      "\u001b[1;31mNameError\u001b[0m: name 'testing' is not defined"
     ]
    }
   ],
   "source": [
    "testingresult=testing.predict(x_valid2)"
   ]
  },
  {
   "cell_type": "code",
   "execution_count": 29,
   "metadata": {},
   "outputs": [
    {
     "data": {
      "text/plain": [
       "array(['BILL'], dtype='<U23')"
      ]
     },
     "execution_count": 29,
     "metadata": {},
     "output_type": "execute_result"
    }
   ],
   "source": [
    "testingresult"
   ]
  },
  {
   "cell_type": "code",
   "execution_count": 30,
   "metadata": {},
   "outputs": [
    {
     "data": {
      "text/plain": [
       "'BILL'"
      ]
     },
     "execution_count": 30,
     "metadata": {},
     "output_type": "execute_result"
    }
   ],
   "source": [
    "y_valid[25322]"
   ]
  },
  {
   "cell_type": "code",
   "execution_count": 33,
   "metadata": {},
   "outputs": [],
   "source": [
    "x_valid7='b99d622bf8e3 ecb0dd7353a4 816a114f1b9a 93790ade6682 4357c81e10c1 a31962fbd5f3 17593fe7d418 54709b24b45f e725cdc2c197 5e99d31d8fa4 d85aeb8537e1 9cdf4a63deb0 b59e343416f7 a0b19f1dc88f b61f1af56200 036087ac04f9 b136f6349cf3 d0a6ba7c50bf 180539c2afb9 95fdfe0bb28d 6ca2dd348663 0f991de8cd9e aa5b17d101b3 d63be9e66da8 f4b04aeadc5e 5e99d31d8fa4 2d04b5e08052 b56aab080e2b 4b1b19d4c756 001acce69dc4 70b9b94e641f 09aefecf1232 d8dd5b7c17af fdb96e216207 43af6db29054 1a46ce1e6826 432bd6e0c08f 8754554be158 4e5019f629a9 d38820625542 3126398a951c b87e12846e40 5b9537791a91 1215d7c29d44 19ce59d8cd2f 04503bc22789 c4d47296b482 957b5cf4e65e a32f3d1b60cf 04503bc22789 5702535c6844 5c02c2aaa67b 4e5019f629a9 ba73edc3d211 f11e7777d8b5 d1c3631d621b 586242498a88 5698b3115633 4cf196bc266f 56c2c356d772 5e99d31d8fa4 327880382e41 586242498a88 d38820625542 11d62d3598ce 586242498a88 6365c4563bd1 2e770bf28dc4 c0976c7ab751 97b6014f9e50 97b6014f9e50 365a9390d225 f0fd45d01d0a fb2cd24a447a 54709b24b45f 31eb88aa3c6b 4faebb8051b2 22d6fd31d92b 8502e7fc91f5 036087ac04f9 b136f6349cf3 cc429363fb23 d38820625542 9de56cbee28f 2c33750c1d59 6ef2ade170d9 72a7e726a90d 6ef2ade170d9 6ef2ade170d9 cc9323b241df 0c4ce226d9fe e616d3a38f90 29b62a6f238b f78b03473f15 7c94e2ddf113 c337a85b8ef9 6365c4563bd1 458fb753e194 4e7b1501a15b cbb85084612b 798fe9915030 c83b1fa03c6a 4faebb8051b2 22d6fd31d92b df7b799d2534 395a5e8185f8 5e142241e482 8758b0cbe03e 56c2c356d772 365a9390d225 288ccf089872'\n",
    "x_valid71=[x_valid7]"
   ]
  },
  {
   "cell_type": "code",
   "execution_count": 34,
   "metadata": {},
   "outputs": [],
   "source": [
    "testingresult=testing.predict(x_valid71)"
   ]
  },
  {
   "cell_type": "code",
   "execution_count": 35,
   "metadata": {},
   "outputs": [
    {
     "data": {
      "text/plain": [
       "array(['CHANGE ENDORSEMENT'], dtype='<U23')"
      ]
     },
     "execution_count": 35,
     "metadata": {},
     "output_type": "execute_result"
    }
   ],
   "source": [
    "testingresult"
   ]
  },
  {
   "cell_type": "code",
   "execution_count": 36,
   "metadata": {},
   "outputs": [
    {
     "data": {
      "text/plain": [
       "25322    6dab0cc915bb 0226fe922dd0 31fdb28ad1d7 48d657c...\n",
       "43678    3140667bf121 3140667bf121 c0af4fb46541 e6330f3...\n",
       "48290    a20e78c41cf9 ed5d3a65ee2d 54709b24b45f 1ad95db...\n",
       "1555     78c3a5c15b68 818a7ff3bf29 9ad186d42f69 6b343f5...\n",
       "31585    26f768da5068 3eee1ce2a7bf 52624091b35b 0189546...\n",
       "                               ...                        \n",
       "54091    5ee06767bc0f 0910ed429a9b 4c8cf4c337f7 0fe7bdc...\n",
       "31638    b20bb43f3cb9 6ca2dd348663 d38820625542 b785323...\n",
       "56456    7d9e333a86da 585781e82e8b 54709b24b45f 1a78854...\n",
       "3897     e6e964a01e72 6b343f522f78 d1788635c88c c24d76b...\n",
       "52076    f9b20c280980 ce1f034abb5d 3486e5fe0d73 6dcc75e...\n",
       "Name: words, Length: 18648, dtype: object"
      ]
     },
     "execution_count": 36,
     "metadata": {},
     "output_type": "execute_result"
    }
   ],
   "source": [
    "x_valid"
   ]
  },
  {
   "cell_type": "code",
   "execution_count": 41,
   "metadata": {},
   "outputs": [],
   "source": [
    "x_valid9=[x_valid[43678]]\n",
    "testingresult=testing.predict(x_valid9)\n"
   ]
  },
  {
   "cell_type": "code",
   "execution_count": 42,
   "metadata": {},
   "outputs": [
    {
     "data": {
      "text/plain": [
       "array(['BINDER'], dtype='<U23')"
      ]
     },
     "execution_count": 42,
     "metadata": {},
     "output_type": "execute_result"
    }
   ],
   "source": [
    "testingresult"
   ]
  },
  {
   "cell_type": "code",
   "execution_count": 43,
   "metadata": {},
   "outputs": [
    {
     "data": {
      "text/plain": [
       "'BINDER'"
      ]
     },
     "execution_count": 43,
     "metadata": {},
     "output_type": "execute_result"
    }
   ],
   "source": [
    "y_valid[43678]"
   ]
  },
  {
   "cell_type": "code",
   "execution_count": 40,
   "metadata": {},
   "outputs": [
    {
     "data": {
      "text/plain": [
       "25322                    BILL\n",
       "43678                  BINDER\n",
       "48290                    BILL\n",
       "1555     DELETION OF INTEREST\n",
       "31585           POLICY CHANGE\n",
       "                 ...         \n",
       "54091           POLICY CHANGE\n",
       "31638             DECLARATION\n",
       "56456           POLICY CHANGE\n",
       "3897      CANCELLATION NOTICE\n",
       "52076                    BILL\n",
       "Name: category, Length: 18648, dtype: object"
      ]
     },
     "execution_count": 40,
     "metadata": {},
     "output_type": "execute_result"
    }
   ],
   "source": [
    "y_valid\n"
   ]
  },
  {
   "cell_type": "code",
   "execution_count": 44,
   "metadata": {},
   "outputs": [],
   "source": [
    "x_valid8=[x_valid[31638]]\n",
    "testingresult=testing.predict(x_valid8)"
   ]
  },
  {
   "cell_type": "code",
   "execution_count": 45,
   "metadata": {},
   "outputs": [
    {
     "data": {
      "text/plain": [
       "array(['BINDER'], dtype='<U23')"
      ]
     },
     "execution_count": 45,
     "metadata": {},
     "output_type": "execute_result"
    }
   ],
   "source": [
    "testingresult"
   ]
  }
 ],
 "metadata": {
  "kernelspec": {
   "display_name": "Python 3",
   "language": "python",
   "name": "python3"
  },
  "language_info": {
   "codemirror_mode": {
    "name": "ipython",
    "version": 3
   },
   "file_extension": ".py",
   "mimetype": "text/x-python",
   "name": "python",
   "nbconvert_exporter": "python",
   "pygments_lexer": "ipython3",
   "version": "3.8.3"
  }
 },
 "nbformat": 4,
 "nbformat_minor": 4
}
