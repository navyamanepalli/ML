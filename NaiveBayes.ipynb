{
 "cells": [
  {
   "cell_type": "code",
   "execution_count": 2,
   "metadata": {},
   "outputs": [],
   "source": [
    "import pandas as pd\n",
    "import numpy as np\n",
    "df = pd.read_csv(\"shuffled-full-set-hashed.csv\", header=None, names=['target','data'])"
   ]
  },
  {
   "cell_type": "code",
   "execution_count": 3,
   "metadata": {},
   "outputs": [],
   "source": [
    "df.dropna(inplace=True)"
   ]
  },
  {
   "cell_type": "code",
   "execution_count": 4,
   "metadata": {},
   "outputs": [],
   "source": [
    "X = df['data']\n",
    "y = df['target']"
   ]
  },
  {
   "cell_type": "code",
   "execution_count": 5,
   "metadata": {},
   "outputs": [],
   "source": [
    "from sklearn import preprocessing\n",
    "le = preprocessing.LabelEncoder()\n",
    "y = le.fit_transform(y)"
   ]
  },
  {
   "cell_type": "code",
   "execution_count": 6,
   "metadata": {},
   "outputs": [],
   "source": [
    "from sklearn.model_selection import train_test_split\n",
    "X_train, X_test, y_train, y_test = train_test_split(X, y, test_size=0.2)"
   ]
  },
  {
   "cell_type": "code",
   "execution_count": 7,
   "metadata": {},
   "outputs": [
    {
     "name": "stdout",
     "output_type": "stream",
     "text": [
      "A total of 877163 words are in the collection\n"
     ]
    }
   ],
   "source": [
    "from sklearn.feature_extraction.text import TfidfVectorizer\n",
    "vectorizer = TfidfVectorizer()\n",
    "X_train = vectorizer.fit_transform(X_train)\n",
    "X_test = vectorizer.transform(X_test)\n",
    "print(\"A total of\", len(vectorizer.get_feature_names()), \"words are in the collection\")"
   ]
  },
  {
   "cell_type": "code",
   "execution_count": 8,
   "metadata": {},
   "outputs": [
    {
     "name": "stdout",
     "output_type": "stream",
     "text": [
      "When alpha = 0.005 cross validation accuracy = 0.7614\n",
      "When alpha = 0.01 cross validation accuracy = 0.7717\n",
      "When alpha = 0.05 cross validation accuracy = 0.7462\n",
      "When alpha = 0.1 cross validation accuracy = 0.7037\n",
      "When alpha = 0.2 cross validation accuracy = 0.6572\n"
     ]
    }
   ],
   "source": [
    "from sklearn.naive_bayes import MultinomialNB\n",
    "for alpha in [0.005,0.01,0.05,0.1,0.2]:\n",
    "    accuracy = 0;\n",
    "    for train_index, test_index in skf.split(X_train, y_train):\n",
    "        X_train_cv, X_test_cv = X_train[train_index], X_train[test_index]\n",
    "        y_train_cv, y_test_cv = y_train[train_index], y_train[test_index]\n",
    "\n",
    "        nbModel = MultinomialNB(alpha=alpha).fit(X_train_cv, y_train_cv)\n",
    "        y_test_cv_pred = nbModel.predict(X_test_cv)\n",
    "        accuracy += accuracy_score(y_test_cv, y_test_cv_pred)\n",
    "    accuracy = accuracy / skf.n_splits\n",
    "    print(\"When alpha =\", alpha, \"cross validation accuracy =\", round(accuracy,4))"
   ]
  },
  {
   "cell_type": "code",
   "execution_count": 11,
   "metadata": {},
   "outputs": [
    {
     "name": "stdout",
     "output_type": "stream",
     "text": [
      "--- 1.3 seconds ---\n",
      "Naive Bayes accuracy = 0.7791184041184042\n"
     ]
    }
   ],
   "source": [
    "from sklearn.metrics import accuracy_score\n",
    "import time\n",
    "from sklearn.naive_bayes import MultinomialNB\n",
    "opt_alpha = 0.01\n",
    "start_time = time.time()\n",
    "nbModel = MultinomialNB(alpha=0.01).fit(X_train, y_train)\n",
    "y_test_pred = nbModel.predict(X_test)\n",
    "score = accuracy_score(y_test,y_test_pred)\n",
    "\n",
    "print(\"--- %s seconds ---\" % round((time.time() - start_time), 2))\n",
    "print(\"Naive Bayes accuracy =\", score)\n",
    "#classifier_results.append({'Classifier': 'Naive Bayes', 'Parameters': 'alpha=0.01', 'Score': score})"
   ]
  },
  {
   "cell_type": "code",
   "execution_count": 13,
   "metadata": {},
   "outputs": [],
   "source": [
    "\n",
    "import pickle\n",
    "pickle.dump(nbModel, open('NBmodel.pkl', 'wb'))"
   ]
  },
  {
   "cell_type": "code",
   "execution_count": null,
   "metadata": {},
   "outputs": [],
   "source": []
  }
 ],
 "metadata": {
  "kernelspec": {
   "display_name": "Python 3",
   "language": "python",
   "name": "python3"
  },
  "language_info": {
   "codemirror_mode": {
    "name": "ipython",
    "version": 3
   },
   "file_extension": ".py",
   "mimetype": "text/x-python",
   "name": "python",
   "nbconvert_exporter": "python",
   "pygments_lexer": "ipython3",
   "version": "3.8.3"
  }
 },
 "nbformat": 4,
 "nbformat_minor": 2
}
